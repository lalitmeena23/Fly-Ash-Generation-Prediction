{
 "cells": [
  {
   "cell_type": "markdown",
   "id": "9b6161c1",
   "metadata": {},
   "source": [
    "# Fly Ash Future Generation Based on Coal Consumption"
   ]
  },
  {
   "cell_type": "markdown",
   "id": "2253a27a",
   "metadata": {},
   "source": [
    "## Poblem Statement: \n",
    "\n",
    "*The energy consumption increased every year in India and the major contribution in energy generation is from COAL.\n",
    "\n",
    "*In thermal power plants the combustion of coal results into FLY ASH generation. \n",
    "\n",
    "*The Fly ash is not utilized efficiently and dumped as solid or discharged with water.\n",
    "\n",
    "*The increase in fly ash generation is not a problem, we need to think or plan how to use it efficiently.\n",
    "\n",
    "*Mainly it is used in cement production.\n",
    "\n",
    "*We need to planned new utlization sector or expand existing sector  accordingly."
   ]
  },
  {
   "cell_type": "code",
   "execution_count": 1,
   "id": "d1e367ea",
   "metadata": {},
   "outputs": [],
   "source": [
    "import pandas as pd\n",
    "import numpy as np\n",
    "import matplotlib.pyplot as plt\n",
    "%matplotlib inline\n",
    "import seaborn as sns"
   ]
  },
  {
   "cell_type": "code",
   "execution_count": 2,
   "id": "79d57f84",
   "metadata": {},
   "outputs": [],
   "source": [
    "df=pd.read_excel(\"F:\\PROJECT\\MTECH PROJ\\LIT_SURVEY_EXCEL\\Fly_Ash_ML_Project.xlsx\",\n",
    "                 names=['Year','Studied Power Stations','Installed Capacity (MW)','Coal consumption (MT)','Fly Ash Generation (MT)'])"
   ]
  },
  {
   "cell_type": "code",
   "execution_count": 3,
   "id": "65e96bae",
   "metadata": {},
   "outputs": [
    {
     "data": {
      "text/html": [
       "<div>\n",
       "<style scoped>\n",
       "    .dataframe tbody tr th:only-of-type {\n",
       "        vertical-align: middle;\n",
       "    }\n",
       "\n",
       "    .dataframe tbody tr th {\n",
       "        vertical-align: top;\n",
       "    }\n",
       "\n",
       "    .dataframe thead th {\n",
       "        text-align: right;\n",
       "    }\n",
       "</style>\n",
       "<table border=\"1\" class=\"dataframe\">\n",
       "  <thead>\n",
       "    <tr style=\"text-align: right;\">\n",
       "      <th></th>\n",
       "      <th>Year</th>\n",
       "      <th>Studied Power Stations</th>\n",
       "      <th>Installed Capacity (MW)</th>\n",
       "      <th>Coal consumption (MT)</th>\n",
       "      <th>Fly Ash Generation (MT)</th>\n",
       "    </tr>\n",
       "  </thead>\n",
       "  <tbody>\n",
       "    <tr>\n",
       "      <th>0</th>\n",
       "      <td>2014</td>\n",
       "      <td>124</td>\n",
       "      <td>105925.3</td>\n",
       "      <td>437.41</td>\n",
       "      <td>145.42</td>\n",
       "    </tr>\n",
       "    <tr>\n",
       "      <th>1</th>\n",
       "      <td>2015</td>\n",
       "      <td>138</td>\n",
       "      <td>120312.3</td>\n",
       "      <td>482.97</td>\n",
       "      <td>163.56</td>\n",
       "    </tr>\n",
       "    <tr>\n",
       "      <th>2</th>\n",
       "      <td>2016</td>\n",
       "      <td>143</td>\n",
       "      <td>133381.3</td>\n",
       "      <td>523.52</td>\n",
       "      <td>99.62</td>\n",
       "    </tr>\n",
       "    <tr>\n",
       "      <th>3</th>\n",
       "      <td>2017</td>\n",
       "      <td>145</td>\n",
       "      <td>138915.8</td>\n",
       "      <td>549.72</td>\n",
       "      <td>184.14</td>\n",
       "    </tr>\n",
       "    <tr>\n",
       "      <th>4</th>\n",
       "      <td>2018</td>\n",
       "      <td>151</td>\n",
       "      <td>145044.8</td>\n",
       "      <td>536.64</td>\n",
       "      <td>176.74</td>\n",
       "    </tr>\n",
       "    <tr>\n",
       "      <th>5</th>\n",
       "      <td>2019</td>\n",
       "      <td>155</td>\n",
       "      <td>145044.8</td>\n",
       "      <td>536.40</td>\n",
       "      <td>169.25</td>\n",
       "    </tr>\n",
       "    <tr>\n",
       "      <th>6</th>\n",
       "      <td>2020</td>\n",
       "      <td>167</td>\n",
       "      <td>177070.0</td>\n",
       "      <td>624.88</td>\n",
       "      <td>196.44</td>\n",
       "    </tr>\n",
       "    <tr>\n",
       "      <th>7</th>\n",
       "      <td>2021</td>\n",
       "      <td>195</td>\n",
       "      <td>197966.5</td>\n",
       "      <td>667.43</td>\n",
       "      <td>217.04</td>\n",
       "    </tr>\n",
       "  </tbody>\n",
       "</table>\n",
       "</div>"
      ],
      "text/plain": [
       "   Year  Studied Power Stations  Installed Capacity (MW)  \\\n",
       "0  2014                     124                 105925.3   \n",
       "1  2015                     138                 120312.3   \n",
       "2  2016                     143                 133381.3   \n",
       "3  2017                     145                 138915.8   \n",
       "4  2018                     151                 145044.8   \n",
       "5  2019                     155                 145044.8   \n",
       "6  2020                     167                 177070.0   \n",
       "7  2021                     195                 197966.5   \n",
       "\n",
       "   Coal consumption (MT)  Fly Ash Generation (MT)  \n",
       "0                 437.41                   145.42  \n",
       "1                 482.97                   163.56  \n",
       "2                 523.52                    99.62  \n",
       "3                 549.72                   184.14  \n",
       "4                 536.64                   176.74  \n",
       "5                 536.40                   169.25  \n",
       "6                 624.88                   196.44  \n",
       "7                 667.43                   217.04  "
      ]
     },
     "execution_count": 3,
     "metadata": {},
     "output_type": "execute_result"
    }
   ],
   "source": [
    "df"
   ]
  },
  {
   "cell_type": "markdown",
   "id": "8f9b513b",
   "metadata": {},
   "source": [
    "Year is not date type ; we need to convert date into year and drop year\n"
   ]
  },
  {
   "cell_type": "code",
   "execution_count": 4,
   "id": "e4795724",
   "metadata": {},
   "outputs": [
    {
     "data": {
      "text/html": [
       "<div>\n",
       "<style scoped>\n",
       "    .dataframe tbody tr th:only-of-type {\n",
       "        vertical-align: middle;\n",
       "    }\n",
       "\n",
       "    .dataframe tbody tr th {\n",
       "        vertical-align: top;\n",
       "    }\n",
       "\n",
       "    .dataframe thead th {\n",
       "        text-align: right;\n",
       "    }\n",
       "</style>\n",
       "<table border=\"1\" class=\"dataframe\">\n",
       "  <thead>\n",
       "    <tr style=\"text-align: right;\">\n",
       "      <th></th>\n",
       "      <th>Year</th>\n",
       "      <th>Studied Power Stations</th>\n",
       "      <th>Installed Capacity (MW)</th>\n",
       "      <th>Coal consumption (MT)</th>\n",
       "      <th>Fly Ash Generation (MT)</th>\n",
       "    </tr>\n",
       "  </thead>\n",
       "  <tbody>\n",
       "    <tr>\n",
       "      <th>count</th>\n",
       "      <td>8.00000</td>\n",
       "      <td>8.000000</td>\n",
       "      <td>8.000000</td>\n",
       "      <td>8.000000</td>\n",
       "      <td>8.00000</td>\n",
       "    </tr>\n",
       "    <tr>\n",
       "      <th>mean</th>\n",
       "      <td>2017.50000</td>\n",
       "      <td>152.250000</td>\n",
       "      <td>145457.600000</td>\n",
       "      <td>544.871250</td>\n",
       "      <td>169.02625</td>\n",
       "    </tr>\n",
       "    <tr>\n",
       "      <th>std</th>\n",
       "      <td>2.44949</td>\n",
       "      <td>21.359173</td>\n",
       "      <td>29618.021167</td>\n",
       "      <td>73.115011</td>\n",
       "      <td>35.35367</td>\n",
       "    </tr>\n",
       "    <tr>\n",
       "      <th>min</th>\n",
       "      <td>2014.00000</td>\n",
       "      <td>124.000000</td>\n",
       "      <td>105925.300000</td>\n",
       "      <td>437.410000</td>\n",
       "      <td>99.62000</td>\n",
       "    </tr>\n",
       "    <tr>\n",
       "      <th>25%</th>\n",
       "      <td>2015.75000</td>\n",
       "      <td>141.750000</td>\n",
       "      <td>130114.050000</td>\n",
       "      <td>513.382500</td>\n",
       "      <td>159.02500</td>\n",
       "    </tr>\n",
       "    <tr>\n",
       "      <th>50%</th>\n",
       "      <td>2017.50000</td>\n",
       "      <td>148.000000</td>\n",
       "      <td>141980.300000</td>\n",
       "      <td>536.520000</td>\n",
       "      <td>172.99500</td>\n",
       "    </tr>\n",
       "    <tr>\n",
       "      <th>75%</th>\n",
       "      <td>2019.25000</td>\n",
       "      <td>158.000000</td>\n",
       "      <td>153051.100000</td>\n",
       "      <td>568.510000</td>\n",
       "      <td>187.21500</td>\n",
       "    </tr>\n",
       "    <tr>\n",
       "      <th>max</th>\n",
       "      <td>2021.00000</td>\n",
       "      <td>195.000000</td>\n",
       "      <td>197966.500000</td>\n",
       "      <td>667.430000</td>\n",
       "      <td>217.04000</td>\n",
       "    </tr>\n",
       "  </tbody>\n",
       "</table>\n",
       "</div>"
      ],
      "text/plain": [
       "             Year  Studied Power Stations  Installed Capacity (MW)  \\\n",
       "count     8.00000                8.000000                 8.000000   \n",
       "mean   2017.50000              152.250000            145457.600000   \n",
       "std       2.44949               21.359173             29618.021167   \n",
       "min    2014.00000              124.000000            105925.300000   \n",
       "25%    2015.75000              141.750000            130114.050000   \n",
       "50%    2017.50000              148.000000            141980.300000   \n",
       "75%    2019.25000              158.000000            153051.100000   \n",
       "max    2021.00000              195.000000            197966.500000   \n",
       "\n",
       "       Coal consumption (MT)  Fly Ash Generation (MT)  \n",
       "count               8.000000                  8.00000  \n",
       "mean              544.871250                169.02625  \n",
       "std                73.115011                 35.35367  \n",
       "min               437.410000                 99.62000  \n",
       "25%               513.382500                159.02500  \n",
       "50%               536.520000                172.99500  \n",
       "75%               568.510000                187.21500  \n",
       "max               667.430000                217.04000  "
      ]
     },
     "execution_count": 4,
     "metadata": {},
     "output_type": "execute_result"
    }
   ],
   "source": [
    "df.describe()"
   ]
  },
  {
   "cell_type": "markdown",
   "id": "1acf2ece",
   "metadata": {},
   "source": [
    "### By doing this, we can take statistical overview of our data in quick"
   ]
  },
  {
   "cell_type": "markdown",
   "id": "6d200b0b",
   "metadata": {},
   "source": [
    "## Data Vizualization"
   ]
  },
  {
   "cell_type": "markdown",
   "id": "cd45875e",
   "metadata": {},
   "source": [
    "### 1. How power station increases each year"
   ]
  },
  {
   "cell_type": "code",
   "execution_count": 5,
   "id": "82fb0ced",
   "metadata": {},
   "outputs": [
    {
     "data": {
      "text/plain": [
       "Text(0, 0.5, 'Power Stations')"
      ]
     },
     "execution_count": 5,
     "metadata": {},
     "output_type": "execute_result"
    },
    {
     "data": {
      "image/png": "[encoded data removed]",
      "text/plain": [
       "<Figure size 1008x432 with 2 Axes>"
      ]
     },
     "metadata": {
      "needs_background": "light"
     },
     "output_type": "display_data"
    }
   ],
   "source": [
    "plt.figure(figsize=(14,6))\n",
    "\n",
    "plt.subplot(121)\n",
    "plt.bar(df['Year'], df['Studied Power Stations'])\n",
    "plt.xlabel('Year')\n",
    "plt.ylabel('Power Stations')\n",
    "\n",
    "plt.subplot(122)\n",
    "plt.scatter(df['Year'], df['Studied Power Stations'])\n",
    "plt.xlabel('Year')\n",
    "plt.ylabel('Power Stations')"
   ]
  },
  {
   "cell_type": "markdown",
   "id": "df42bda3",
   "metadata": {},
   "source": [
    "### 2. How the number of power stations increases each year\n",
    "\n",
    "  > plants Linearly increases each year\n"
   ]
  },
  {
   "cell_type": "markdown",
   "id": "3e695ec8",
   "metadata": {},
   "source": [
    "### 2.1 Outliear detection  and Removal\n",
    "\n",
    "#### Distribution PLot and Box Plot\n",
    "\n",
    "#### Methods: Normal Distribution, Z-score, IQR and Percentile"
   ]
  },
  {
   "cell_type": "code",
   "execution_count": 6,
   "id": "3e350a88",
   "metadata": {},
   "outputs": [
    {
     "name": "stderr",
     "output_type": "stream",
     "text": [
      "E:\\Anaconda\\lib\\site-packages\\seaborn\\distributions.py:2619: FutureWarning: `distplot` is a deprecated function and will be removed in a future version. Please adapt your code to use either `displot` (a figure-level function with similar flexibility) or `histplot` (an axes-level function for histograms).\n",
      "  warnings.warn(msg, FutureWarning)\n",
      "E:\\Anaconda\\lib\\site-packages\\seaborn\\_decorators.py:36: FutureWarning: Pass the following variable as a keyword arg: x. From version 0.12, the only valid positional argument will be `data`, and passing other arguments without an explicit keyword will result in an error or misinterpretation.\n",
      "  warnings.warn(\n"
     ]
    },
    {
     "data": {
      "text/plain": [
       "<AxesSubplot:xlabel='Studied Power Stations'>"
      ]
     },
     "execution_count": 6,
     "metadata": {},
     "output_type": "execute_result"
    },
    {
     "data": {
      "image/png": "[encoded data removed]",
      "text/plain": [
       "<Figure size 1008x432 with 2 Axes>"
      ]
     },
     "metadata": {
      "needs_background": "light"
     },
     "output_type": "display_data"
    }
   ],
   "source": [
    "plt.figure(figsize=(14,6))\n",
    "\n",
    "plt.subplot(121)\n",
    "sns.distplot(df['Studied Power Stations'])\n",
    "\n",
    "plt.subplot(122)\n",
    "sns.boxplot(df['Studied Power Stations'])"
   ]
  },
  {
   "cell_type": "markdown",
   "id": "77753ce2",
   "metadata": {},
   "source": [
    "### Conclusion From PLots\n",
    " 1. Distribution is kind of normal\n",
    " 2. One outlier"
   ]
  },
  {
   "cell_type": "code",
   "execution_count": 7,
   "id": "64659262",
   "metadata": {},
   "outputs": [],
   "source": [
    "#OUTIER DETECTION\n",
    "\n",
    "mean_pp=df['Studied Power Stations'].mean()\n",
    "std_pp =df['Studied Power Stations'].std()\n",
    "\n",
    "pp_outlier= df[(df['Studied Power Stations']< (mean_pp-3*std_pp)) | (df['Studied Power Stations']>(mean_pp+3*std_pp))]"
   ]
  },
  {
   "cell_type": "code",
   "execution_count": 8,
   "id": "be9dd2f2",
   "metadata": {},
   "outputs": [
    {
     "data": {
      "text/html": [
       "<div>\n",
       "<style scoped>\n",
       "    .dataframe tbody tr th:only-of-type {\n",
       "        vertical-align: middle;\n",
       "    }\n",
       "\n",
       "    .dataframe tbody tr th {\n",
       "        vertical-align: top;\n",
       "    }\n",
       "\n",
       "    .dataframe thead th {\n",
       "        text-align: right;\n",
       "    }\n",
       "</style>\n",
       "<table border=\"1\" class=\"dataframe\">\n",
       "  <thead>\n",
       "    <tr style=\"text-align: right;\">\n",
       "      <th></th>\n",
       "      <th>Year</th>\n",
       "      <th>Studied Power Stations</th>\n",
       "      <th>Installed Capacity (MW)</th>\n",
       "      <th>Coal consumption (MT)</th>\n",
       "      <th>Fly Ash Generation (MT)</th>\n",
       "    </tr>\n",
       "  </thead>\n",
       "  <tbody>\n",
       "  </tbody>\n",
       "</table>\n",
       "</div>"
      ],
      "text/plain": [
       "Empty DataFrame\n",
       "Columns: [Year, Studied Power Stations, Installed Capacity (MW), Coal consumption (MT), Fly Ash Generation (MT)]\n",
       "Index: []"
      ]
     },
     "execution_count": 8,
     "metadata": {},
     "output_type": "execute_result"
    }
   ],
   "source": [
    "pp_outlier"
   ]
  },
  {
   "cell_type": "markdown",
   "id": "a6eec5ea",
   "metadata": {},
   "source": [
    "#### >>no outlier detection from this method"
   ]
  },
  {
   "cell_type": "markdown",
   "id": "d6d34b55",
   "metadata": {},
   "source": [
    "#### >>we can apply linear regression on given data to predict the future count of power stations"
   ]
  },
  {
   "cell_type": "code",
   "execution_count": 9,
   "id": "96e680ef",
   "metadata": {},
   "outputs": [],
   "source": [
    "df1 = (df['Studied Power Stations']-mean_pp)/std_pp"
   ]
  },
  {
   "cell_type": "code",
   "execution_count": 10,
   "id": "d0a5a73e",
   "metadata": {},
   "outputs": [
    {
     "data": {
      "text/plain": [
       "0   -1.322617\n",
       "1   -0.667161\n",
       "2   -0.433069\n",
       "3   -0.339433\n",
       "4   -0.058523\n",
       "5    0.128750\n",
       "6    0.690570\n",
       "7    2.001482\n",
       "Name: Studied Power Stations, dtype: float64"
      ]
     },
     "execution_count": 10,
     "metadata": {},
     "output_type": "execute_result"
    }
   ],
   "source": [
    "df1"
   ]
  },
  {
   "cell_type": "markdown",
   "id": "0c7d51e0",
   "metadata": {},
   "source": [
    "### All values(z-score) are in the range of (-3, 3)\n",
    "1. therefore no outlier present in the data and distribution is also kind of normal\n",
    "2. we can use linear regression on this "
   ]
  },
  {
   "cell_type": "code",
   "execution_count": 15,
   "id": "ab405410",
   "metadata": {},
   "outputs": [],
   "source": [
    "from sklearn.model_selection import train_test_split\n",
    "\n",
    "x_train,x_test,y_train,y_test= train_test_split(df['Year'],df['Studied Power Stations'], test_size=0.30)"
   ]
  },
  {
   "cell_type": "code",
   "execution_count": 20,
   "id": "f702cd6f",
   "metadata": {},
   "outputs": [
    {
     "data": {
      "text/plain": [
       "LinearRegression()"
      ]
     },
     "execution_count": 20,
     "metadata": {},
     "output_type": "execute_result"
    }
   ],
   "source": [
    "x_train_2d=x_train.array.reshape(-1,1)\n",
    "lr.fit(x_train_2d,y_train)"
   ]
  },
  {
   "cell_type": "code",
   "execution_count": 21,
   "id": "4cc7a665",
   "metadata": {},
   "outputs": [
    {
     "data": {
      "text/plain": [
       "6    167\n",
       "5    155\n",
       "2    143\n",
       "Name: Studied Power Stations, dtype: int64"
      ]
     },
     "execution_count": 21,
     "metadata": {},
     "output_type": "execute_result"
    }
   ],
   "source": [
    "y_test"
   ]
  },
  {
   "cell_type": "code",
   "execution_count": 22,
   "id": "c3fac521",
   "metadata": {},
   "outputs": [
    {
     "data": {
      "text/plain": [
       "array([178.9       , 169.46666667, 141.16666667])"
      ]
     },
     "execution_count": 22,
     "metadata": {},
     "output_type": "execute_result"
    }
   ],
   "source": [
    "x_test_2d=x_test.array.reshape(-1,1)\n",
    "lr.predict(x_test_2d)"
   ]
  },
  {
   "cell_type": "code",
   "execution_count": 23,
   "id": "584b5e01",
   "metadata": {},
   "outputs": [
    {
     "name": "stderr",
     "output_type": "stream",
     "text": [
      "E:\\Anaconda\\lib\\site-packages\\seaborn\\distributions.py:2619: FutureWarning: `distplot` is a deprecated function and will be removed in a future version. Please adapt your code to use either `displot` (a figure-level function with similar flexibility) or `histplot` (an axes-level function for histograms).\n",
      "  warnings.warn(msg, FutureWarning)\n",
      "E:\\Anaconda\\lib\\site-packages\\seaborn\\_decorators.py:36: FutureWarning: Pass the following variable as a keyword arg: x. From version 0.12, the only valid positional argument will be `data`, and passing other arguments without an explicit keyword will result in an error or misinterpretation.\n",
      "  warnings.warn(\n",
      "E:\\Anaconda\\lib\\site-packages\\seaborn\\distributions.py:2619: FutureWarning: `distplot` is a deprecated function and will be removed in a future version. Please adapt your code to use either `displot` (a figure-level function with similar flexibility) or `histplot` (an axes-level function for histograms).\n",
      "  warnings.warn(msg, FutureWarning)\n",
      "E:\\Anaconda\\lib\\site-packages\\seaborn\\_decorators.py:36: FutureWarning: Pass the following variable as a keyword arg: x. From version 0.12, the only valid positional argument will be `data`, and passing other arguments without an explicit keyword will result in an error or misinterpretation.\n",
      "  warnings.warn(\n"
     ]
    },
    {
     "data": {
      "text/plain": [
       "<AxesSubplot:xlabel='Coal consumption (MT)'>"
      ]
     },
     "execution_count": 23,
     "metadata": {},
     "output_type": "execute_result"
    },
    {
     "data": {
      "image/png": "[encoded data removed]",
      "text/plain": [
       "<Figure size 1152x576 with 4 Axes>"
      ]
     },
     "metadata": {
      "needs_background": "light"
     },
     "output_type": "display_data"
    }
   ],
   "source": [
    "import seaborn as sns\n",
    "plt.figure(figsize=(16,8))\n",
    "plt.subplot(223)\n",
    "sns.distplot(df['Fly Ash Generation (MT)'])\n",
    "plt.subplot(224)\n",
    "sns.boxplot('Fly Ash Generation (MT)', data= df)\n",
    "\n",
    "plt.subplot(221)\n",
    "sns.distplot(df['Coal consumption (MT)'])\n",
    "plt.subplot(222)\n",
    "sns.boxplot('Coal consumption (MT)', data= df)"
   ]
  },
  {
   "cell_type": "markdown",
   "id": "a8449bba",
   "metadata": {},
   "source": [
    "## Feature Engineering on whole data set"
   ]
  },
  {
   "cell_type": "code",
   "execution_count": 24,
   "id": "07880418",
   "metadata": {},
   "outputs": [
    {
     "data": {
      "text/html": [
       "<div>\n",
       "<style scoped>\n",
       "    .dataframe tbody tr th:only-of-type {\n",
       "        vertical-align: middle;\n",
       "    }\n",
       "\n",
       "    .dataframe tbody tr th {\n",
       "        vertical-align: top;\n",
       "    }\n",
       "\n",
       "    .dataframe thead th {\n",
       "        text-align: right;\n",
       "    }\n",
       "</style>\n",
       "<table border=\"1\" class=\"dataframe\">\n",
       "  <thead>\n",
       "    <tr style=\"text-align: right;\">\n",
       "      <th></th>\n",
       "      <th>Year</th>\n",
       "      <th>Studied Power Stations</th>\n",
       "      <th>Installed Capacity (MW)</th>\n",
       "      <th>Coal consumption (MT)</th>\n",
       "      <th>Fly Ash Generation (MT)</th>\n",
       "    </tr>\n",
       "  </thead>\n",
       "  <tbody>\n",
       "    <tr>\n",
       "      <th>0</th>\n",
       "      <td>2014</td>\n",
       "      <td>124</td>\n",
       "      <td>105925.3</td>\n",
       "      <td>437.41</td>\n",
       "      <td>145.42</td>\n",
       "    </tr>\n",
       "    <tr>\n",
       "      <th>1</th>\n",
       "      <td>2015</td>\n",
       "      <td>138</td>\n",
       "      <td>120312.3</td>\n",
       "      <td>482.97</td>\n",
       "      <td>163.56</td>\n",
       "    </tr>\n",
       "    <tr>\n",
       "      <th>2</th>\n",
       "      <td>2016</td>\n",
       "      <td>143</td>\n",
       "      <td>133381.3</td>\n",
       "      <td>523.52</td>\n",
       "      <td>99.62</td>\n",
       "    </tr>\n",
       "    <tr>\n",
       "      <th>3</th>\n",
       "      <td>2017</td>\n",
       "      <td>145</td>\n",
       "      <td>138915.8</td>\n",
       "      <td>549.72</td>\n",
       "      <td>184.14</td>\n",
       "    </tr>\n",
       "    <tr>\n",
       "      <th>4</th>\n",
       "      <td>2018</td>\n",
       "      <td>151</td>\n",
       "      <td>145044.8</td>\n",
       "      <td>536.64</td>\n",
       "      <td>176.74</td>\n",
       "    </tr>\n",
       "    <tr>\n",
       "      <th>5</th>\n",
       "      <td>2019</td>\n",
       "      <td>155</td>\n",
       "      <td>145044.8</td>\n",
       "      <td>536.40</td>\n",
       "      <td>169.25</td>\n",
       "    </tr>\n",
       "    <tr>\n",
       "      <th>6</th>\n",
       "      <td>2020</td>\n",
       "      <td>167</td>\n",
       "      <td>177070.0</td>\n",
       "      <td>624.88</td>\n",
       "      <td>196.44</td>\n",
       "    </tr>\n",
       "    <tr>\n",
       "      <th>7</th>\n",
       "      <td>2021</td>\n",
       "      <td>195</td>\n",
       "      <td>197966.5</td>\n",
       "      <td>667.43</td>\n",
       "      <td>217.04</td>\n",
       "    </tr>\n",
       "  </tbody>\n",
       "</table>\n",
       "</div>"
      ],
      "text/plain": [
       "   Year  Studied Power Stations  Installed Capacity (MW)  \\\n",
       "0  2014                     124                 105925.3   \n",
       "1  2015                     138                 120312.3   \n",
       "2  2016                     143                 133381.3   \n",
       "3  2017                     145                 138915.8   \n",
       "4  2018                     151                 145044.8   \n",
       "5  2019                     155                 145044.8   \n",
       "6  2020                     167                 177070.0   \n",
       "7  2021                     195                 197966.5   \n",
       "\n",
       "   Coal consumption (MT)  Fly Ash Generation (MT)  \n",
       "0                 437.41                   145.42  \n",
       "1                 482.97                   163.56  \n",
       "2                 523.52                    99.62  \n",
       "3                 549.72                   184.14  \n",
       "4                 536.64                   176.74  \n",
       "5                 536.40                   169.25  \n",
       "6                 624.88                   196.44  \n",
       "7                 667.43                   217.04  "
      ]
     },
     "execution_count": 24,
     "metadata": {},
     "output_type": "execute_result"
    }
   ],
   "source": [
    "df"
   ]
  },
  {
   "cell_type": "markdown",
   "id": "e771b585",
   "metadata": {},
   "source": [
    "### 1. No missing values\n",
    "### 2. No outliers \n",
    "### 3. No feature extraction and feature selection"
   ]
  },
  {
   "cell_type": "markdown",
   "id": "8dd2de52",
   "metadata": {},
   "source": [
    "## Only feature scaling required "
   ]
  },
  {
   "cell_type": "code",
   "execution_count": 27,
   "id": "a45dd804",
   "metadata": {},
   "outputs": [],
   "source": [
    "X=df.drop(columns=['Fly Ash Generation (MT)'])\n",
    "Y=df['Fly Ash Generation (MT)']"
   ]
  },
  {
   "cell_type": "code",
   "execution_count": 28,
   "id": "bf6b1aea",
   "metadata": {},
   "outputs": [],
   "source": [
    "X_train,X_test,Y_train,Y_test=train_test_split(X,Y,test_size=0.3)"
   ]
  },
  {
   "cell_type": "code",
   "execution_count": 31,
   "id": "f2b1252e",
   "metadata": {},
   "outputs": [],
   "source": [
    "from sklearn.preprocessing import StandardScaler\n",
    "scaler=StandardScaler()\n",
    "X_train_transformed=scaler.fit_transform(X_train,Y_train)\n",
    "X_test_transformed=scaler.transform(X_test)"
   ]
  },
  {
   "cell_type": "code",
   "execution_count": 32,
   "id": "56e3f077",
   "metadata": {},
   "outputs": [
    {
     "data": {
      "text/plain": [
       "array([[-0.34554737, -0.59486929, -0.5011349 , -0.29691665],\n",
       "       [-1.2094158 , -0.92535223, -1.1391025 , -1.28866939],\n",
       "       [-0.77748158, -0.68929299, -0.69092884, -0.68618889],\n",
       "       [ 0.95025527,  0.44379138,  0.80728253,  0.8197895 ],\n",
       "       [ 1.38218948,  1.76572313,  1.52388371,  1.45198543]])"
      ]
     },
     "execution_count": 32,
     "metadata": {},
     "output_type": "execute_result"
    }
   ],
   "source": [
    "X_train_transformed"
   ]
  },
  {
   "cell_type": "code",
   "execution_count": 33,
   "id": "2af90bd2",
   "metadata": {},
   "outputs": [
    {
     "data": {
      "text/plain": [
       "array([[-1.64135001, -1.58631811, -1.63247417, -1.96558706],\n",
       "       [ 0.51832106, -0.12275081, -0.29095383, -0.49482147],\n",
       "       [ 0.08638684, -0.3115982 , -0.29095383, -0.49125562]])"
      ]
     },
     "execution_count": 33,
     "metadata": {},
     "output_type": "execute_result"
    }
   ],
   "source": [
    "X_test_transformed"
   ]
  },
  {
   "cell_type": "code",
   "execution_count": 34,
   "id": "3e4f608b",
   "metadata": {},
   "outputs": [
    {
     "data": {
      "text/plain": [
       "0    145.42\n",
       "5    169.25\n",
       "4    176.74\n",
       "Name: Fly Ash Generation (MT), dtype: float64"
      ]
     },
     "execution_count": 34,
     "metadata": {},
     "output_type": "execute_result"
    }
   ],
   "source": [
    "Y_test"
   ]
  },
  {
   "cell_type": "code",
   "execution_count": 35,
   "id": "a02c967f",
   "metadata": {},
   "outputs": [
    {
     "data": {
      "text/plain": [
       "LinearRegression()"
      ]
     },
     "execution_count": 35,
     "metadata": {},
     "output_type": "execute_result"
    }
   ],
   "source": [
    "lr.fit(X_train,Y_train)"
   ]
  },
  {
   "cell_type": "code",
   "execution_count": 36,
   "id": "b1c0b9bf",
   "metadata": {},
   "outputs": [
    {
     "data": {
      "text/plain": [
       "array([170.7114973 , 667.73460913, 392.38028261])"
      ]
     },
     "execution_count": 36,
     "metadata": {},
     "output_type": "execute_result"
    }
   ],
   "source": [
    "lr.predict(X_test)"
   ]
  },
  {
   "cell_type": "code",
   "execution_count": null,
   "id": "33c06e8a",
   "metadata": {},
   "outputs": [],
   "source": []
  }
 ],
 "metadata": {
  "kernelspec": {
   "display_name": "Python 3 (ipykernel)",
   "language": "python",
   "name": "python3"
  },
  "language_info": {
   "codemirror_mode": {
    "name": "ipython",
    "version": 3
   },
   "file_extension": ".py",
   "mimetype": "text/x-python",
   "name": "python",
   "nbconvert_exporter": "python",
   "pygments_lexer": "ipython3",
   "version": "3.9.12"
  }
 },
 "nbformat": 4,
 "nbformat_minor": 5
}
